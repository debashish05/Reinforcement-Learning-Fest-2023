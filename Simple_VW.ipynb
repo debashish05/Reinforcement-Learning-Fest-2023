{
 "cells": [
  {
   "cell_type": "code",
   "execution_count": 56,
   "metadata": {},
   "outputs": [],
   "source": [
    "import os\n",
    "import re\n",
    "import numpy as np\n",
    "from sklearn.datasets import fetch_20newsgroups\n",
    "from sklearn.metrics import accuracy_score, confusion_matrix\n",
    "from sklearn.model_selection import train_test_split\n",
    "from sklearn.preprocessing import LabelEncoder\n",
    "import vowpalwabbit"
   ]
  },
  {
   "attachments": {},
   "cell_type": "markdown",
   "metadata": {},
   "source": [
    "**Loading https://scikit-learn.org/0.19/datasets/twenty_newsgroups.html dataset for 20 class classifcation problem**"
   ]
  },
  {
   "cell_type": "code",
   "execution_count": 63,
   "metadata": {},
   "outputs": [],
   "source": [
    "!mkdir -p RL\n",
    "\n",
    "newsgroups= fetch_20newsgroups()\n",
    "\n",
    "all_documents = newsgroups[\"data\"]\n",
    "topic_encoder = LabelEncoder()\n",
    "all_targets_mult = topic_encoder.fit_transform(newsgroups[\"target\"]) + 1"
   ]
  },
  {
   "attachments": {},
   "cell_type": "markdown",
   "metadata": {},
   "source": [
    "**Converting Text to VW format**"
   ]
  },
  {
   "cell_type": "code",
   "execution_count": 64,
   "metadata": {},
   "outputs": [
    {
     "data": {
      "text/plain": [
       "'-1 |text subject win storm from srini shannon tisl ukans edu srini seetharam reply srini shannon tisl ukans edu srini seetharam distribution world organization elec comp eng univ kansas nntp posting host erlang tisl ukans edu originator srini erlang lines anyone have any info the video sound card from sigma designs called win storm they also have another card called the legend 24lx any info would appreciated incuding performance pricing and availability thanks srini\\n'"
      ]
     },
     "execution_count": 64,
     "metadata": {},
     "output_type": "execute_result"
    }
   ],
   "source": [
    "def to_vw_format(document, label=None):\n",
    "    return (\n",
    "        str(label or \"\")\n",
    "        + \" |text \"\n",
    "        + \" \".join(re.findall(\"\\w{3,}\", document.lower()))\n",
    "        + \"\\n\"\n",
    "    )\n",
    "\n",
    "to_vw_format(text, 1 if target == \"rec.autos\" else -1)"
   ]
  },
  {
   "cell_type": "code",
   "execution_count": 65,
   "metadata": {},
   "outputs": [],
   "source": [
    "PATH_TO_WRITE_DATA=\"./RL\""
   ]
  },
  {
   "attachments": {},
   "cell_type": "markdown",
   "metadata": {},
   "source": [
    "**Make Test and Train split and divide convert all the data to vw format**"
   ]
  },
  {
   "cell_type": "code",
   "execution_count": 66,
   "metadata": {},
   "outputs": [],
   "source": [
    "train_documents, test_documents, train_labels, test_labels = train_test_split(\n",
    "    all_documents[:10000], all_targets_mult[:10000], random_state=7\n",
    ")\n",
    "\n",
    "with open(os.path.join(PATH_TO_WRITE_DATA, \"20news_train_mult.vw\"), \"w\") as vw_train_data:\n",
    "    for text, target in zip(train_documents, train_labels):\n",
    "        vw_train_data.write(to_vw_format(text, target))\n",
    "with open(os.path.join(PATH_TO_WRITE_DATA, \"20news_test_mult.vw\"), \"w\") as vw_test_data:\n",
    "    for text in test_documents:\n",
    "        vw_test_data.write(to_vw_format(text))"
   ]
  },
  {
   "attachments": {},
   "cell_type": "markdown",
   "metadata": {},
   "source": [
    "**Training**"
   ]
  },
  {
   "cell_type": "code",
   "execution_count": 67,
   "metadata": {},
   "outputs": [
    {
     "name": "stdout",
     "output_type": "stream",
     "text": [
      "final_regressor = ./RL/20news_model_mult.vw\n",
      "using no cache\n",
      "Reading datafile = ./RL/20news_train_mult.vw\n",
      "num sources = 1\n",
      "Num weight bits = 18\n",
      "learning rate = 0.5\n",
      "initial_t = 0\n",
      "power_t = 0.5\n",
      "Enabled learners: gd, scorer-identity, oaa\n",
      "Input label = MULTICLASS\n",
      "Output pred = MULTICLASS\n",
      "average  since         example        example        current        current  current\n",
      "loss     last          counter         weight          label        predict features\n",
      "\u001b[32m[info]\u001b[m label 20 found -- labels are now considered 1-indexed.\n",
      "1.000000 1.000000            1            1.0             20              1     2251\n",
      "1.000000 1.000000            2            2.0             13             20       43\n",
      "1.000000 1.000000            4            4.0             18             15      158\n",
      "1.000000 1.000000            8            8.0              2              6       95\n",
      "0.875000 0.750000           16           16.0              8             10      234\n",
      "0.843750 0.812500           32           32.0              3              6       89\n",
      "0.875000 0.906250           64           64.0             12              6      288\n",
      "0.828125 0.781250          128          128.0             12              5      114\n",
      "0.773438 0.718750          256          256.0             15              1      398\n",
      "0.609375 0.445312          512          512.0             17             17      275\n",
      "0.480469 0.351562         1024         1024.0              1              1      197\n",
      "0.377930 0.275391         2048         2048.0             17             17      462\n",
      "0.291016 0.204102         4096         4096.0              9              9      109\n",
      "\n",
      "finished run\n",
      "number of examples = 7500\n",
      "weighted example sum = 7500.000000\n",
      "weighted label sum = 0.000000\n",
      "average loss = 0.227067\n",
      "total feature number = 1825478\n"
     ]
    }
   ],
   "source": [
    "#!vw -d RL/20news_train.vw  --loss_function hinge -f RL/20news_model.vw\n",
    "!vw --oaa 20 ./RL/20news_train_mult.vw -f ./RL/20news_model_mult.vw --loss_function=hinge"
   ]
  },
  {
   "attachments": {},
   "cell_type": "markdown",
   "metadata": {},
   "source": [
    "**Inference**"
   ]
  },
  {
   "cell_type": "code",
   "execution_count": 68,
   "metadata": {},
   "outputs": [
    {
     "name": "stdout",
     "output_type": "stream",
     "text": [
      "only testing\n",
      "predictions = RL/20news_test_predictions_mult.txt\n",
      "using no cache\n",
      "Reading datafile = RL/20news_test_mult.vw\n",
      "num sources = 1\n",
      "Num weight bits = 18\n",
      "learning rate = 0.5\n",
      "initial_t = 7500\n",
      "power_t = 0.5\n",
      "Enabled learners: gd, scorer-identity, oaa\n",
      "Input label = MULTICLASS\n",
      "Output pred = MULTICLASS\n",
      "average  since         example        example        current        current  current\n",
      "loss     last          counter         weight          label        predict features\n",
      "n.a.     n.a.                1            1.0        unknown              2      124\n",
      "n.a.     n.a.                2            2.0        unknown              5      159\n",
      "n.a.     n.a.                4            4.0        unknown             12      184\n",
      "n.a.     n.a.                8            8.0        unknown             18      199\n",
      "n.a.     n.a.               16           16.0        unknown              5      176\n",
      "n.a.     n.a.               32           32.0        unknown             16       36\n",
      "n.a.     n.a.               64           64.0        unknown              4       49\n",
      "n.a.     n.a.              128          128.0        unknown              3      219\n",
      "n.a.     n.a.              256          256.0        unknown              2      148\n",
      "n.a.     n.a.              512          512.0        unknown             14      145\n",
      "n.a.     n.a.             1024         1024.0        unknown              5      133\n",
      "n.a.     n.a.             2048         2048.0        unknown              6      183\n",
      "\n",
      "finished run\n",
      "number of examples = 2500\n",
      "weighted example sum = 2500.000000\n",
      "weighted label sum = 0.000000\n",
      "average loss = n.a.\n",
      "total feature number = 569093\n"
     ]
    }
   ],
   "source": [
    "!vw -i RL/20news_model_mult.vw -t -d RL/20news_test_mult.vw -p RL/20news_test_predictions_mult.txt"
   ]
  },
  {
   "attachments": {},
   "cell_type": "markdown",
   "metadata": {},
   "source": [
    "**Results**"
   ]
  },
  {
   "cell_type": "code",
   "execution_count": 69,
   "metadata": {},
   "outputs": [],
   "source": [
    "with open(os.path.join(PATH_TO_WRITE_DATA, \"20news_test_predictions_mult.txt\")) as pred_file:\n",
    "    test_prediction_mult = [float(label) for label in pred_file.readlines()]"
   ]
  },
  {
   "cell_type": "code",
   "execution_count": 70,
   "metadata": {},
   "outputs": [
    {
     "name": "stdout",
     "output_type": "stream",
     "text": [
      "0.8652\n"
     ]
    }
   ],
   "source": [
    "print(accuracy_score(test_labels, test_prediction_mult))"
   ]
  },
  {
   "cell_type": "code",
   "execution_count": 71,
   "metadata": {},
   "outputs": [
    {
     "name": "stdout",
     "output_type": "stream",
     "text": [
      "comp.os.ms-windows.misc 1\n",
      "comp.windows.x 1\n",
      "misc.forsale 1\n",
      "sci.med 1\n",
      "soc.religion.christian 2\n",
      "talk.religion.misc 6\n"
     ]
    }
   ],
   "source": [
    "M = confusion_matrix(test_labels, test_prediction_mult)\n",
    "for i in np.where(M[0, :] > 0)[0][1:]:\n",
    "    print(newsgroups[\"target_names\"][i], M[0, i])"
   ]
  }
 ],
 "metadata": {
  "kernelspec": {
   "display_name": "base",
   "language": "python",
   "name": "python3"
  },
  "language_info": {
   "codemirror_mode": {
    "name": "ipython",
    "version": 3
   },
   "file_extension": ".py",
   "mimetype": "text/x-python",
   "name": "python",
   "nbconvert_exporter": "python",
   "pygments_lexer": "ipython3",
   "version": "3.9.16"
  },
  "orig_nbformat": 4
 },
 "nbformat": 4,
 "nbformat_minor": 2
}
